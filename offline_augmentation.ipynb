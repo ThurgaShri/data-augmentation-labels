{
 "cells": [
  {
   "cell_type": "markdown",
   "source": [
    "## Data augmentation with bbox label "
   ],
   "metadata": {}
  },
  {
   "cell_type": "code",
   "execution_count": 15,
   "source": [
    "import os\r\n",
    "from matplotlib.patches import Rectangle\r\n",
    "%matplotlib inline\r\n",
    "import cv2\r\n",
    "from matplotlib import pyplot as plt\r\n",
    "import albumentations as A\r\n",
    "from pathlib import Path\r\n"
   ],
   "outputs": [],
   "metadata": {}
  },
  {
   "cell_type": "markdown",
   "source": [
    "## Conversion of Yolo Labels to Coco/VOC"
   ],
   "metadata": {}
  },
  {
   "cell_type": "code",
   "execution_count": 16,
   "source": [
    "def yolo_to_coco(bbox, img_width, img_height):\r\n",
    "    \"\"\"\r\n",
    "    yolo: [x_centre, y_centre, width, height], value:(0-1)\r\n",
    "    coco: [x_min, y_min, width, height], value:(real numbers)\r\n",
    "    \"\"\"\r\n",
    "    x_centre, y_centre, w, h = bbox\r\n",
    "    \r\n",
    "    box_width = w * img_width\r\n",
    "    box_height = h * img_height\r\n",
    "    \r\n",
    "    x_min = int(x_centre * img_width - (box_width/2))\r\n",
    "    y_min = int(y_centre * img_height - (box_height / 2))\r\n",
    "\r\n",
    "    return x_min, y_min, box_width, box_height\r\n",
    "\r\n",
    "def yolo_to_voc(bbox, img_width, img_height):\r\n",
    "    \"\"\"\r\n",
    "    yolo: [x_centre, y_centre, width, height], value:(0-1)\r\n",
    "    voc: [x_min, y_min, x_max, y_max], value:(real numbers)\r\n",
    "    \"\"\"\r\n",
    "    x_centre, y_centre, w, h = bbox\r\n",
    "    \r\n",
    "    box_width = w * img_width\r\n",
    "    box_height = h * img_height\r\n",
    "    \r\n",
    "    x_min = int(x_centre * img_width - (box_width/2))\r\n",
    "    y_min = int(y_centre * img_height - (box_height / 2))\r\n",
    "\r\n",
    "    x_max = x_min + box_width\r\n",
    "    y_max = y_min + box_height\r\n",
    "\r\n",
    "    return x_min, y_min, x_max, y_max"
   ],
   "outputs": [],
   "metadata": {}
  },
  {
   "cell_type": "markdown",
   "source": [
    "## Preprocessing text files \r\n",
    "### - Separate class_id and bbox coordinates"
   ],
   "metadata": {}
  },
  {
   "cell_type": "code",
   "execution_count": 17,
   "source": [
    "def processing_text_files(txt_file):\r\n",
    "    \"\"\"\r\n",
    "    Change format from : 1 0.5 0.3 0.2 0.5 - class x_centre y_centre width height\r\n",
    "    to : class_id=1; bbox_coordinates=[0.5,0.3,0.2,0.5]\r\n",
    "    \"\"\"\r\n",
    "    with open(txt_file,'r') as f:\r\n",
    "        lines = f.readline()\r\n",
    "        lines = lines.replace(' ', ',')[:-1]\r\n",
    "        class_id = int(lines.split(',',1)[0])\r\n",
    "        # print(class_id)\r\n",
    "        bbox = lines.split(',',1)[1]\r\n",
    "        if bbox[-1] == ',':\r\n",
    "            bbox = bbox[:-1]\r\n",
    "        bbox = list(bbox.split(','))\r\n",
    "        bbox = [float(i) for i in bbox]\r\n",
    "    \r\n",
    "    return class_id, bbox"
   ],
   "outputs": [],
   "metadata": {}
  },
  {
   "cell_type": "markdown",
   "source": [
    "## Visualize and save the augmented image and text file to a separate folder"
   ],
   "metadata": {}
  },
  {
   "cell_type": "code",
   "execution_count": 21,
   "source": [
    "def visualize_save_image(path_save_image, image_id, transform, image, bboxes, bbox_classes, image_width, image_height, number_plots=5):\r\n",
    "    fig, ax = plt.subplots(2, 3, figsize=(15, 10))\r\n",
    "    count = 0\r\n",
    "    for i in range(number_plots):\r\n",
    "        count += 1\r\n",
    "\r\n",
    "        ## Augmentation done here for each image\r\n",
    "        transformed = transform(\r\n",
    "            image=image, \r\n",
    "            bboxes=bboxes, \r\n",
    "            bbox_classes=bbox_classes\r\n",
    "        )\r\n",
    "\r\n",
    "        # print(transformed)\r\n",
    "        \r\n",
    "        ## Bbox conversion\r\n",
    "        bboxes_convert = transformed['bboxes'][0]\r\n",
    "        x_min, y_min, box_width, box_height = yolo_to_coco(bboxes_convert, image_width, image_height)\r\n",
    "\r\n",
    "        ax[i // 3, i % 3].imshow(transformed[\"image\"])\r\n",
    "        bbox_rect = Rectangle(\r\n",
    "            (x_min,y_min),\r\n",
    "            box_width,\r\n",
    "            box_height,\r\n",
    "            linewidth=5,\r\n",
    "            edgecolor=\"r\",\r\n",
    "            facecolor=\"none\",\r\n",
    "        )\r\n",
    "        ax[i // 3, i % 3].add_patch(bbox_rect)\r\n",
    "\r\n",
    "        # ## Save augmented image \r\n",
    "        # save_image(path_save_image, count, transformed, image_id)\r\n",
    "        \r\n",
    "        # # Save augmented text image\r\n",
    "        # save_txtfile(path_save_image, count, transformed, image_id)\r\n",
    "\r\n",
    "    plt.show() # Comment this to not show image\r\n",
    "\r\n",
    "def save_image(path_save_image, count, transformed, image_id, extension='.jpg'):\r\n",
    "    ## Save augmented image \r\n",
    "    saveImage = os.path.join(path_save_image, image_id + str(count) + extension)\r\n",
    "    cv2.imwrite(saveImage, transformed['image'])\r\n",
    "\r\n",
    "def save_txtfile(path_save_image, count, transformed, image_id, extension='.txt'):\r\n",
    "    ## Save augmented text file \r\n",
    "    save_bbox = transformed['bboxes']\r\n",
    "    save_class = transformed['bbox_classes']\r\n",
    "    \r\n",
    "    ## pre-processing format to be saved\r\n",
    "    for bboxx, bbox_class in zip(save_bbox, save_class):\r\n",
    "        for key, value in category_id_to_name.items():\r\n",
    "            if value == bbox_class:\r\n",
    "                save_class = key\r\n",
    "        save_label = str(save_class)\r\n",
    "        save_label += str(bboxx)\r\n",
    "        save_label = save_label.replace('(',' ')\r\n",
    "        save_label = save_label.replace(')',' ')\r\n",
    "        save_label = save_label.replace(',','')\r\n",
    "\r\n",
    "    saveLabel = os.path.join(path_save_image, image_id + str(count) + extension)\r\n",
    "    with open(saveLabel, 'w') as txt:\r\n",
    "        txt.writelines(save_label)"
   ],
   "outputs": [],
   "metadata": {}
  },
  {
   "cell_type": "markdown",
   "source": [
    "## Augmentation"
   ],
   "metadata": {}
  },
  {
   "cell_type": "code",
   "execution_count": 22,
   "source": [
    "def augment_with_label(path, path_save_image, ext=('.jpg','.jpeg','.JPG'), object_class=['positive']):\r\n",
    "    \"\"\"\r\n",
    "    path : path to folder of images and text files to be augmented\r\n",
    "    path_save_image : path to output augmented images and text files\r\n",
    "    ext : accepted extension for image\r\n",
    "    object_class : change according to the class_name to be augmented\"\"\"\r\n",
    "\r\n",
    "    # List of image and txt files in path folder    \r\n",
    "    image_file = []\r\n",
    "    txt_file = []\r\n",
    "    for files in os.listdir(path):\r\n",
    "        if files.endswith(ext):\r\n",
    "            image_file.append(files)\r\n",
    "        else:\r\n",
    "            txt_file.append(files)\r\n",
    "    \r\n",
    "    # Parallel iteration over image and txt file (IMG1.jpg IMG1.txt)\r\n",
    "    for img, txt in zip(image_file, txt_file):\r\n",
    "        \r\n",
    "        # Load image\r\n",
    "        image = cv2.imread(path+img)\r\n",
    "        image = cv2.cvtColor(image, cv2.COLOR_BGR2RGB)\r\n",
    "        # Extract width and height of image for bbox conversion\r\n",
    "        image_height, image_width, channel = image.shape\r\n",
    "\r\n",
    "        # Load text files and processing \r\n",
    "        class_id, bbox = processing_text_files(path+txt)\r\n",
    "\r\n",
    "        # Data Augmentation\r\n",
    "        transform = A.Compose(\r\n",
    "            [A.HorizontalFlip(p=0.5),\r\n",
    "            A.VerticalFlip(p=0.4),\r\n",
    "            A.ShiftScaleRotate(shift_limit=0.0625, scale_limit=0.2, rotate_limit=45,p=0.5),\r\n",
    "            A.RandomBrightnessContrast(p=0.3),\r\n",
    "            A.Blur(blur_limit=5),\r\n",
    "            A.HueSaturationValue(p=0.3)],\r\n",
    "            bbox_params=A.BboxParams(format='yolo', label_fields=['bbox_classes']))\r\n",
    "\r\n",
    "        bboxes = [bbox] #need to be in list\r\n",
    "        bbox_classes = object_class #class of the object\r\n",
    "        \r\n",
    "        # Show and save image\r\n",
    "        image_id = Path(img).stem + '_'\r\n",
    "        visualize_save_image(path_save_image, image_id, transform, image, bboxes, bbox_classes, image_width, image_height, number_plots=5)\r\n",
    "        "
   ],
   "outputs": [],
   "metadata": {}
  },
  {
   "cell_type": "markdown",
   "source": [
    "## Run augmentation"
   ],
   "metadata": {}
  },
  {
   "cell_type": "code",
   "execution_count": null,
   "source": [
    "path = '/path/to/folder/with/images/to/augment'\r\n",
    "path_save_image = 'path/to/save/augmented/images'\r\n",
    "category_id_to_name = {0: 'positive', 1:'negative'}\r\n",
    "\r\n",
    "augment_with_label(path, path_save_image)"
   ],
   "outputs": [],
   "metadata": {}
  },
  {
   "cell_type": "code",
   "execution_count": null,
   "source": [],
   "outputs": [],
   "metadata": {}
  }
 ],
 "metadata": {
  "orig_nbformat": 4,
  "language_info": {
   "name": "python",
   "version": "3.7.5",
   "mimetype": "text/x-python",
   "codemirror_mode": {
    "name": "ipython",
    "version": 3
   },
   "pygments_lexer": "ipython3",
   "nbconvert_exporter": "python",
   "file_extension": ".py"
  },
  "kernelspec": {
   "name": "python3",
   "display_name": "Python 3.7.5 64-bit ('darknet_to_tf_37': venv)"
  },
  "interpreter": {
   "hash": "5d7507162bfea88ea3a113c38cc1e5b031bd57efa49b2973c4de4a6e0982a7b5"
  }
 },
 "nbformat": 4,
 "nbformat_minor": 2
}